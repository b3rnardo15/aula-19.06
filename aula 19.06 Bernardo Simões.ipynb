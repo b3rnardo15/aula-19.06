{
 "cells": [
  {
   "cell_type": "code",
   "execution_count": 39,
   "metadata": {},
   "outputs": [],
   "source": [
    "#Criando uma classe \n",
    "class Animal():\n",
    "\n",
    "    #Construtor da classe\n",
    "    def __init__(self, name, weight, color):\n",
    "        #atributos\n",
    "        self.nome = name\n",
    "        self.peso = weight\n",
    "        self.corDoPelo = color\n",
    "\n",
    "    def imprimirDados(self):\n",
    "        return (\"Nome: %s \\nPeso: %.1f kg \\nCor do pelo: %s\" %(self.nome, self.peso, self.corDoPelo))\n",
    "\n",
    "    def latir(self, barulho):\n",
    "        print(barulho)\n",
    "\n"
   ]
  },
  {
   "cell_type": "code",
   "execution_count": 38,
   "metadata": {},
   "outputs": [
    {
     "name": "stdout",
     "output_type": "stream",
     "text": [
      "Nome: Marlene \n",
      "Peso: 7.9 kg \n",
      "Cor do pelo:Caramelo\n",
      "Au,Au!\n",
      "Nome: Cibele \n",
      "Peso: 4.5 kg \n",
      "Cor do pelo:Cinza\n",
      "Miau!\n"
     ]
    }
   ],
   "source": [
    "#Instanciando um objeto cachorro\n",
    "\n",
    "caozinho = Animal (\"Marlene\", 7.9, \"Caramelo\")\n",
    "gato = Animal(\"Cibele\", 4.5, \"Cinza\")\n",
    "\n",
    "#Chamando o método do objeto criado\n",
    "\n",
    "print(caozinho.imprimirDados())\n",
    "caozinho.latir (\"Au,Au!\")\n",
    "\n",
    "print(gato.imprimirDados())\n",
    "gato.latir(\"Miau!\")"
   ]
  },
  {
   "cell_type": "code",
   "execution_count": 52,
   "metadata": {},
   "outputs": [],
   "source": [
    "class Livro():\n",
    "\n",
    "    def __init__ (self,titulo,isbn):\n",
    "        self.titulo = 'O monge e o executivo'\n",
    "        self.isbn = 9988888\n",
    "        print(\"Construtor chamado para criar um objeto desta classe\")\n",
    "\n",
    "\n",
    "    def imprime(self):\n",
    "        print(\"Este é o livro %s e ISBN %d\" %(self.titulo, self.isbn))\n",
    "\n",
    "        \n",
    "        "
   ]
  },
  {
   "cell_type": "code",
   "execution_count": 53,
   "metadata": {},
   "outputs": [
    {
     "name": "stdout",
     "output_type": "stream",
     "text": [
      "Construtor chamado para criar um objeto desta classe\n"
     ]
    }
   ],
   "source": [
    "#Criando o objeto Livro2 que é uma instância da classe Livro\n",
    "\n",
    "Livro2 = Livro(\"A menina que Roubava Livros\", 77886611)\n",
    "\n",
    "\n"
   ]
  },
  {
   "cell_type": "code",
   "execution_count": 54,
   "metadata": {},
   "outputs": [
    {
     "data": {
      "text/plain": [
       "'O monge e o executivo'"
      ]
     },
     "execution_count": 54,
     "metadata": {},
     "output_type": "execute_result"
    }
   ],
   "source": [
    "Livro2.titulo"
   ]
  }
 ],
 "metadata": {
  "kernelspec": {
   "display_name": "Python 3",
   "language": "python",
   "name": "python3"
  },
  "language_info": {
   "codemirror_mode": {
    "name": "ipython",
    "version": 3
   },
   "file_extension": ".py",
   "mimetype": "text/x-python",
   "name": "python",
   "nbconvert_exporter": "python",
   "pygments_lexer": "ipython3",
   "version": "3.11.9"
  }
 },
 "nbformat": 4,
 "nbformat_minor": 2
}
